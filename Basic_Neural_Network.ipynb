{
  "nbformat": 4,
  "nbformat_minor": 0,
  "metadata": {
    "colab": {
      "provenance": [],
      "gpuType": "T4",
      "authorship_tag": "ABX9TyNw55l3eU7BMQzWvHrLeHY5",
      "include_colab_link": true
    },
    "kernelspec": {
      "name": "python3",
      "display_name": "Python 3"
    },
    "language_info": {
      "name": "python"
    },
    "accelerator": "GPU"
  },
  "cells": [
    {
      "cell_type": "markdown",
      "metadata": {
        "id": "view-in-github",
        "colab_type": "text"
      },
      "source": [
        "<a href=\"https://colab.research.google.com/github/StuartLance/PyTorch-Test/blob/main/Basic_Neural_Network.ipynb\" target=\"_parent\"><img src=\"https://colab.research.google.com/assets/colab-badge.svg\" alt=\"Open In Colab\"/></a>"
      ]
    },
    {
      "cell_type": "markdown",
      "source": [
        "\n",
        "\n",
        "# IRIS DATASET\n"
      ],
      "metadata": {
        "id": "fRXDAQtGtiWk"
      }
    },
    {
      "cell_type": "code",
      "execution_count": 1,
      "metadata": {
        "id": "0mv7_JmKtR6W"
      },
      "outputs": [],
      "source": [
        "import torch\n",
        "import torch.nn as nn\n",
        "import torch.nn.functional as F"
      ]
    },
    {
      "cell_type": "code",
      "source": [
        "# Create a model class that inherits nn.Module\n",
        "class Model(nn.Module):\n",
        "  # Input layer (4 features of flower) -->\n",
        "  #Hidden layer 1 (number of neurons) -->\n",
        "  #H2 (n) -->\n",
        "  #output (3 classes of flowers)\n",
        "\n",
        "  def __init__(self, in_features=4, h1=8, h2=10, out_features=3):\n",
        "    super().__init__()\n",
        "    self.fc1 = nn.Linear(in_features, h1)\n",
        "    self.fc2 = nn.Linear(h1, h2)\n",
        "    self.out = nn.Linear(h2, out_features)\n",
        "\n",
        "  def forward(self, x):\n",
        "    # Non-linear activation functions to increase expressivity\n",
        "    # Rectified Linear Unit ~ if x>0 -> x else 0\n",
        "    x = F.relu(self.fc1(x))\n",
        "    x = F.relu(self.fc2(x))\n",
        "    x = self.out(x)\n",
        "\n",
        "    return x"
      ],
      "metadata": {
        "id": "KnkBadxFv4fb"
      },
      "execution_count": 4,
      "outputs": []
    },
    {
      "cell_type": "code",
      "source": [
        "# Create manual seed\n",
        "\n",
        "torch.manual_seed(41)\n",
        "# Create inst of model\n",
        "\n",
        "model = Model()"
      ],
      "metadata": {
        "id": "ClyYq9PAx6_2"
      },
      "execution_count": 5,
      "outputs": []
    },
    {
      "cell_type": "code",
      "source": [],
      "metadata": {
        "id": "jIoFV4EfyKsf"
      },
      "execution_count": null,
      "outputs": []
    }
  ]
}