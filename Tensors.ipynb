{
  "nbformat": 4,
  "nbformat_minor": 0,
  "metadata": {
    "colab": {
      "provenance": [],
      "gpuType": "T4",
      "authorship_tag": "ABX9TyM4fa20dZBnBWjfuu16/ByB",
      "include_colab_link": true
    },
    "kernelspec": {
      "name": "python3",
      "display_name": "Python 3"
    },
    "language_info": {
      "name": "python"
    },
    "accelerator": "GPU"
  },
  "cells": [
    {
      "cell_type": "markdown",
      "metadata": {
        "id": "view-in-github",
        "colab_type": "text"
      },
      "source": [
        "<a href=\"https://colab.research.google.com/github/StuartLance/PyTorch-Test/blob/main/Tensors.ipynb\" target=\"_parent\"><img src=\"https://colab.research.google.com/assets/colab-badge.svg\" alt=\"Open In Colab\"/></a>"
      ]
    },
    {
      "cell_type": "code",
      "execution_count": 1,
      "metadata": {
        "id": "ENCDGLUjh18Z"
      },
      "outputs": [],
      "source": [
        "import torch\n",
        "import numpy as np"
      ]
    },
    {
      "cell_type": "code",
      "source": [
        "my_list = [[1,2,3,4],[5,6,7,8]]\n",
        "my_list"
      ],
      "metadata": {
        "id": "uS4BruXLh-Zu",
        "colab": {
          "base_uri": "https://localhost:8080/"
        },
        "outputId": "202043c7-2d44-4982-fa86-9ea2af34537a"
      },
      "execution_count": 3,
      "outputs": [
        {
          "output_type": "execute_result",
          "data": {
            "text/plain": [
              "[[1, 2, 3, 4], [5, 6, 7, 8]]"
            ]
          },
          "metadata": {},
          "execution_count": 3
        }
      ]
    },
    {
      "cell_type": "markdown",
      "source": [
        "# Numpy Array\n",
        "3 Rows, 4 Columns\n"
      ],
      "metadata": {
        "id": "3ZvTtnRXjP3A"
      }
    },
    {
      "cell_type": "code",
      "source": [
        "np1 = np.random.rand(3,5)\n",
        "np1"
      ],
      "metadata": {
        "colab": {
          "base_uri": "https://localhost:8080/"
        },
        "id": "GcBePg4zjAeZ",
        "outputId": "fa0e93fd-d949-444b-a5c0-01b19935b855"
      },
      "execution_count": 6,
      "outputs": [
        {
          "output_type": "execute_result",
          "data": {
            "text/plain": [
              "array([[0.14035296, 0.81489155, 0.40685346, 0.56222841, 0.69664005],\n",
              "       [0.63146106, 0.63900254, 0.36835002, 0.37495785, 0.65045869],\n",
              "       [0.04831767, 0.94332957, 0.12294883, 0.20064287, 0.60412777]])"
            ]
          },
          "metadata": {},
          "execution_count": 6
        }
      ]
    },
    {
      "cell_type": "markdown",
      "source": [
        "# Tensor\n"
      ],
      "metadata": {
        "id": "cHCpKFJQjmSr"
      }
    },
    {
      "cell_type": "code",
      "source": [
        "tensor_2d = torch.randn(3,4)\n",
        "tensor_2d"
      ],
      "metadata": {
        "colab": {
          "base_uri": "https://localhost:8080/"
        },
        "id": "cFwtrhrgjh2b",
        "outputId": "75827bb5-a199-4ac0-b9e1-fda0a2c4fa91"
      },
      "execution_count": 8,
      "outputs": [
        {
          "output_type": "execute_result",
          "data": {
            "text/plain": [
              "tensor([[ 1.4043,  0.7830,  0.9493,  0.6029],\n",
              "        [ 0.5669,  0.6004, -0.2462,  0.4014],\n",
              "        [-1.2686, -1.2234, -1.3685, -0.1391]])"
            ]
          },
          "metadata": {},
          "execution_count": 8
        }
      ]
    },
    {
      "cell_type": "code",
      "source": [
        "tensor_3d = torch.randn(2,3,4)\n",
        "tensor_3d"
      ],
      "metadata": {
        "colab": {
          "base_uri": "https://localhost:8080/"
        },
        "id": "IERILsYqj8YS",
        "outputId": "3513df4d-c7fc-451d-d3c7-429d65eb507c"
      },
      "execution_count": 9,
      "outputs": [
        {
          "output_type": "execute_result",
          "data": {
            "text/plain": [
              "tensor([[[ 0.4144, -0.6723,  1.5836,  1.8150],\n",
              "         [-0.0194, -0.9041,  1.5192,  0.0526],\n",
              "         [-0.4177,  0.5738,  0.5515, -0.5745]],\n",
              "\n",
              "        [[ 1.6230, -1.9813,  1.4683,  1.3442],\n",
              "         [-1.0875, -0.3061,  1.5075,  0.2353],\n",
              "         [ 0.6433, -1.5313, -0.0493, -0.5208]]])"
            ]
          },
          "metadata": {},
          "execution_count": 9
        }
      ]
    },
    {
      "cell_type": "code",
      "source": [
        "# Tensor from numpy array\n",
        "my_tensor = torch.tensor(np1)\n",
        "my_tensor"
      ],
      "metadata": {
        "colab": {
          "base_uri": "https://localhost:8080/"
        },
        "id": "siWFONYckEj-",
        "outputId": "fe2b26b9-94db-476b-c143-127857e97217"
      },
      "execution_count": 10,
      "outputs": [
        {
          "output_type": "execute_result",
          "data": {
            "text/plain": [
              "tensor([[0.1404, 0.8149, 0.4069, 0.5622, 0.6966],\n",
              "        [0.6315, 0.6390, 0.3684, 0.3750, 0.6505],\n",
              "        [0.0483, 0.9433, 0.1229, 0.2006, 0.6041]], dtype=torch.float64)"
            ]
          },
          "metadata": {},
          "execution_count": 10
        }
      ]
    },
    {
      "cell_type": "markdown",
      "source": [
        "# Operations"
      ],
      "metadata": {
        "id": "VaNiSxAhljU5"
      }
    },
    {
      "cell_type": "code",
      "source": [
        "ten = torch.arange(10)\n",
        "ten"
      ],
      "metadata": {
        "colab": {
          "base_uri": "https://localhost:8080/"
        },
        "id": "FddGsWWukZvy",
        "outputId": "8a004b6e-85f8-49de-e989-c8af4d5cb414"
      },
      "execution_count": 12,
      "outputs": [
        {
          "output_type": "execute_result",
          "data": {
            "text/plain": [
              "tensor([0, 1, 2, 3, 4, 5, 6, 7, 8, 9])"
            ]
          },
          "metadata": {},
          "execution_count": 12
        }
      ]
    },
    {
      "cell_type": "code",
      "source": [
        "# reshape and View"
      ],
      "metadata": {
        "id": "I4vc8A2Wlz8V"
      },
      "execution_count": 13,
      "outputs": []
    },
    {
      "cell_type": "code",
      "source": [
        "ten = ten.reshape(2,5)\n",
        "ten"
      ],
      "metadata": {
        "id": "RxeV2K8Jl3TZ",
        "outputId": "d06bd3bc-ffa9-42d8-d37b-00ad1ed86294",
        "colab": {
          "base_uri": "https://localhost:8080/"
        }
      },
      "execution_count": 14,
      "outputs": [
        {
          "output_type": "execute_result",
          "data": {
            "text/plain": [
              "tensor([[0, 1, 2, 3, 4],\n",
              "        [5, 6, 7, 8, 9]])"
            ]
          },
          "metadata": {},
          "execution_count": 14
        }
      ]
    },
    {
      "cell_type": "code",
      "source": [
        "# Reshape when not knowing number of items using -1\n",
        "ten2 = torch.arange(10)\n",
        "ten2"
      ],
      "metadata": {
        "id": "gWe3Ob64mBR9",
        "outputId": "183f3e6e-d5f3-4ebd-a623-5d136c759c6d",
        "colab": {
          "base_uri": "https://localhost:8080/"
        }
      },
      "execution_count": 17,
      "outputs": [
        {
          "output_type": "execute_result",
          "data": {
            "text/plain": [
              "tensor([0, 1, 2, 3, 4, 5, 6, 7, 8, 9])"
            ]
          },
          "metadata": {},
          "execution_count": 17
        }
      ]
    },
    {
      "cell_type": "code",
      "source": [
        "ten2 = ten2.reshape(2,-1)\n",
        "ten2"
      ],
      "metadata": {
        "id": "jRDbx5ilmOyd",
        "outputId": "a445934b-2bb9-455a-e449-10b69183e81b",
        "colab": {
          "base_uri": "https://localhost:8080/"
        }
      },
      "execution_count": 18,
      "outputs": [
        {
          "output_type": "execute_result",
          "data": {
            "text/plain": [
              "tensor([[0, 1, 2, 3, 4],\n",
              "        [5, 6, 7, 8, 9]])"
            ]
          },
          "metadata": {},
          "execution_count": 18
        }
      ]
    },
    {
      "cell_type": "code",
      "source": [
        "ten3 = torch.arange(10)\n",
        "ten3"
      ],
      "metadata": {
        "id": "n3LuicbOmovM",
        "outputId": "c5333cc6-a017-4d9d-8214-69c1b9b8795a",
        "colab": {
          "base_uri": "https://localhost:8080/"
        }
      },
      "execution_count": 19,
      "outputs": [
        {
          "output_type": "execute_result",
          "data": {
            "text/plain": [
              "tensor([0, 1, 2, 3, 4, 5, 6, 7, 8, 9])"
            ]
          },
          "metadata": {},
          "execution_count": 19
        }
      ]
    },
    {
      "cell_type": "code",
      "source": [
        "ten4 = ten3.view(2,5)\n",
        "ten4"
      ],
      "metadata": {
        "id": "G-qwzPFQmtl4",
        "outputId": "5e9176da-664b-4be8-8a20-3e49f0f3712e",
        "colab": {
          "base_uri": "https://localhost:8080/"
        }
      },
      "execution_count": 20,
      "outputs": [
        {
          "output_type": "execute_result",
          "data": {
            "text/plain": [
              "tensor([[0, 1, 2, 3, 4],\n",
              "        [5, 6, 7, 8, 9]])"
            ]
          },
          "metadata": {},
          "execution_count": 20
        }
      ]
    },
    {
      "cell_type": "markdown",
      "source": [
        "Updating"
      ],
      "metadata": {
        "id": "yne6EKHhnQs3"
      }
    },
    {
      "cell_type": "code",
      "source": [
        "ten5 = torch.arange(15)\n",
        "ten5"
      ],
      "metadata": {
        "id": "sv8tWPSZm0rw",
        "outputId": "80cc1c29-9cdd-495a-b669-ccec599f4678",
        "colab": {
          "base_uri": "https://localhost:8080/"
        }
      },
      "execution_count": 21,
      "outputs": [
        {
          "output_type": "execute_result",
          "data": {
            "text/plain": [
              "tensor([ 0,  1,  2,  3,  4,  5,  6,  7,  8,  9, 10, 11, 12, 13, 14])"
            ]
          },
          "metadata": {},
          "execution_count": 21
        }
      ]
    },
    {
      "cell_type": "code",
      "source": [
        "ten6 = ten5.reshape(3,5)\n",
        "ten6"
      ],
      "metadata": {
        "id": "i800kCo7nWTW",
        "outputId": "69fa1bea-dbab-4296-a1b0-a1bb323ebd2e",
        "colab": {
          "base_uri": "https://localhost:8080/"
        }
      },
      "execution_count": 22,
      "outputs": [
        {
          "output_type": "execute_result",
          "data": {
            "text/plain": [
              "tensor([[ 0,  1,  2,  3,  4],\n",
              "        [ 5,  6,  7,  8,  9],\n",
              "        [10, 11, 12, 13, 14]])"
            ]
          },
          "metadata": {},
          "execution_count": 22
        }
      ]
    },
    {
      "cell_type": "code",
      "source": [
        "ten5[2]= 123\n",
        "ten5"
      ],
      "metadata": {
        "id": "Km2zAOKYnb4x",
        "outputId": "839331f1-4aa1-4a21-bc1d-cb5cdef73bf4",
        "colab": {
          "base_uri": "https://localhost:8080/"
        }
      },
      "execution_count": 23,
      "outputs": [
        {
          "output_type": "execute_result",
          "data": {
            "text/plain": [
              "tensor([  0,   1, 123,   3,   4,   5,   6,   7,   8,   9,  10,  11,  12,  13,\n",
              "         14])"
            ]
          },
          "metadata": {},
          "execution_count": 23
        }
      ]
    },
    {
      "cell_type": "code",
      "source": [
        "ten6"
      ],
      "metadata": {
        "id": "cTsMnJVjniZJ",
        "outputId": "03dbf944-34d7-4983-bcdb-eb984c8ea3fa",
        "colab": {
          "base_uri": "https://localhost:8080/"
        }
      },
      "execution_count": 24,
      "outputs": [
        {
          "output_type": "execute_result",
          "data": {
            "text/plain": [
              "tensor([[  0,   1, 123,   3,   4],\n",
              "        [  5,   6,   7,   8,   9],\n",
              "        [ 10,  11,  12,  13,  14]])"
            ]
          },
          "metadata": {},
          "execution_count": 24
        }
      ]
    },
    {
      "cell_type": "code",
      "source": [
        "# Slicing\n",
        "\n",
        "ten7 = torch.arange(10)\n",
        "ten7"
      ],
      "metadata": {
        "id": "cFx_evUUnkeR",
        "outputId": "cacb7ca4-41a1-4bdc-c576-7d5aa2273eba",
        "colab": {
          "base_uri": "https://localhost:8080/"
        }
      },
      "execution_count": 25,
      "outputs": [
        {
          "output_type": "execute_result",
          "data": {
            "text/plain": [
              "tensor([0, 1, 2, 3, 4, 5, 6, 7, 8, 9])"
            ]
          },
          "metadata": {},
          "execution_count": 25
        }
      ]
    },
    {
      "cell_type": "code",
      "source": [
        "ten7[7]\n",
        "# grabs a scalar of 7, not just number 7"
      ],
      "metadata": {
        "id": "FLVJNNBznwyD",
        "outputId": "a2d8e7f2-be8f-4a60-d00f-4388c2838bc0",
        "colab": {
          "base_uri": "https://localhost:8080/"
        }
      },
      "execution_count": 27,
      "outputs": [
        {
          "output_type": "execute_result",
          "data": {
            "text/plain": [
              "tensor(7)"
            ]
          },
          "metadata": {},
          "execution_count": 27
        }
      ]
    },
    {
      "cell_type": "code",
      "source": [
        "ten8 = ten7.reshape(2,5)\n",
        "ten8"
      ],
      "metadata": {
        "id": "ptsS4mK4n0rl",
        "outputId": "4dcb7235-b687-4910-c89d-08f4db13df4d",
        "colab": {
          "base_uri": "https://localhost:8080/"
        }
      },
      "execution_count": 28,
      "outputs": [
        {
          "output_type": "execute_result",
          "data": {
            "text/plain": [
              "tensor([[0, 1, 2, 3, 4],\n",
              "        [5, 6, 7, 8, 9]])"
            ]
          },
          "metadata": {},
          "execution_count": 28
        }
      ]
    },
    {
      "cell_type": "code",
      "source": [
        "ten8[:,1]"
      ],
      "metadata": {
        "id": "J9TDb4MsoHZ7",
        "outputId": "0979e871-ef13-41e5-bd8b-5780d76fc38a",
        "colab": {
          "base_uri": "https://localhost:8080/"
        }
      },
      "execution_count": 30,
      "outputs": [
        {
          "output_type": "execute_result",
          "data": {
            "text/plain": [
              "tensor([1, 6])"
            ]
          },
          "metadata": {},
          "execution_count": 30
        }
      ]
    },
    {
      "cell_type": "code",
      "source": [
        "#Return columns (exclude first)\n",
        "ten8[:,1:]"
      ],
      "metadata": {
        "id": "EwY3GgY2oLmZ",
        "outputId": "9e3e0efd-5b54-4368-b279-469af51a4a8a",
        "colab": {
          "base_uri": "https://localhost:8080/"
        }
      },
      "execution_count": 31,
      "outputs": [
        {
          "output_type": "execute_result",
          "data": {
            "text/plain": [
              "tensor([[1, 2, 3, 4],\n",
              "        [6, 7, 8, 9]])"
            ]
          },
          "metadata": {},
          "execution_count": 31
        }
      ]
    },
    {
      "cell_type": "markdown",
      "source": [
        "# Tensor Maths"
      ],
      "metadata": {
        "id": "ejC6U7_no27a"
      }
    },
    {
      "cell_type": "code",
      "source": [],
      "metadata": {
        "id": "ju53_iGuoizN"
      },
      "execution_count": null,
      "outputs": []
    }
  ]
}