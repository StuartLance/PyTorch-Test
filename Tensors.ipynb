{
  "nbformat": 4,
  "nbformat_minor": 0,
  "metadata": {
    "colab": {
      "provenance": [],
      "gpuType": "T4",
      "authorship_tag": "ABX9TyMPaq5MViTMD7EApl1Ki6CN",
      "include_colab_link": true
    },
    "kernelspec": {
      "name": "python3",
      "display_name": "Python 3"
    },
    "language_info": {
      "name": "python"
    },
    "accelerator": "GPU"
  },
  "cells": [
    {
      "cell_type": "markdown",
      "metadata": {
        "id": "view-in-github",
        "colab_type": "text"
      },
      "source": [
        "<a href=\"https://colab.research.google.com/github/StuartLance/PyTorch-Test/blob/main/Tensors.ipynb\" target=\"_parent\"><img src=\"https://colab.research.google.com/assets/colab-badge.svg\" alt=\"Open In Colab\"/></a>"
      ]
    },
    {
      "cell_type": "code",
      "execution_count": 1,
      "metadata": {
        "id": "ENCDGLUjh18Z"
      },
      "outputs": [],
      "source": [
        "import torch\n",
        "import numpy as np"
      ]
    },
    {
      "cell_type": "code",
      "source": [
        "my_list = [[1,2,3,4],[5,6,7,8]]\n",
        "my_list"
      ],
      "metadata": {
        "id": "uS4BruXLh-Zu",
        "colab": {
          "base_uri": "https://localhost:8080/"
        },
        "outputId": "202043c7-2d44-4982-fa86-9ea2af34537a"
      },
      "execution_count": 3,
      "outputs": [
        {
          "output_type": "execute_result",
          "data": {
            "text/plain": [
              "[[1, 2, 3, 4], [5, 6, 7, 8]]"
            ]
          },
          "metadata": {},
          "execution_count": 3
        }
      ]
    },
    {
      "cell_type": "markdown",
      "source": [
        "# Numpy Array\n",
        "3 Rows, 4 Columns\n"
      ],
      "metadata": {
        "id": "3ZvTtnRXjP3A"
      }
    },
    {
      "cell_type": "code",
      "source": [
        "np1 = np.random.rand(3,5)\n",
        "np1"
      ],
      "metadata": {
        "colab": {
          "base_uri": "https://localhost:8080/"
        },
        "id": "GcBePg4zjAeZ",
        "outputId": "fa0e93fd-d949-444b-a5c0-01b19935b855"
      },
      "execution_count": 6,
      "outputs": [
        {
          "output_type": "execute_result",
          "data": {
            "text/plain": [
              "array([[0.14035296, 0.81489155, 0.40685346, 0.56222841, 0.69664005],\n",
              "       [0.63146106, 0.63900254, 0.36835002, 0.37495785, 0.65045869],\n",
              "       [0.04831767, 0.94332957, 0.12294883, 0.20064287, 0.60412777]])"
            ]
          },
          "metadata": {},
          "execution_count": 6
        }
      ]
    },
    {
      "cell_type": "markdown",
      "source": [
        "# Tensor\n"
      ],
      "metadata": {
        "id": "cHCpKFJQjmSr"
      }
    },
    {
      "cell_type": "code",
      "source": [
        "tensor_2d = torch.randn(3,4)\n",
        "tensor_2d"
      ],
      "metadata": {
        "colab": {
          "base_uri": "https://localhost:8080/"
        },
        "id": "cFwtrhrgjh2b",
        "outputId": "75827bb5-a199-4ac0-b9e1-fda0a2c4fa91"
      },
      "execution_count": 8,
      "outputs": [
        {
          "output_type": "execute_result",
          "data": {
            "text/plain": [
              "tensor([[ 1.4043,  0.7830,  0.9493,  0.6029],\n",
              "        [ 0.5669,  0.6004, -0.2462,  0.4014],\n",
              "        [-1.2686, -1.2234, -1.3685, -0.1391]])"
            ]
          },
          "metadata": {},
          "execution_count": 8
        }
      ]
    },
    {
      "cell_type": "code",
      "source": [
        "tensor_3d = torch.randn(2,3,4)\n",
        "tensor_3d"
      ],
      "metadata": {
        "colab": {
          "base_uri": "https://localhost:8080/"
        },
        "id": "IERILsYqj8YS",
        "outputId": "3513df4d-c7fc-451d-d3c7-429d65eb507c"
      },
      "execution_count": 9,
      "outputs": [
        {
          "output_type": "execute_result",
          "data": {
            "text/plain": [
              "tensor([[[ 0.4144, -0.6723,  1.5836,  1.8150],\n",
              "         [-0.0194, -0.9041,  1.5192,  0.0526],\n",
              "         [-0.4177,  0.5738,  0.5515, -0.5745]],\n",
              "\n",
              "        [[ 1.6230, -1.9813,  1.4683,  1.3442],\n",
              "         [-1.0875, -0.3061,  1.5075,  0.2353],\n",
              "         [ 0.6433, -1.5313, -0.0493, -0.5208]]])"
            ]
          },
          "metadata": {},
          "execution_count": 9
        }
      ]
    },
    {
      "cell_type": "code",
      "source": [
        "# Tensor from numpy array\n",
        "my_tensor = torch.tensor(np1)\n",
        "my_tensor"
      ],
      "metadata": {
        "colab": {
          "base_uri": "https://localhost:8080/"
        },
        "id": "siWFONYckEj-",
        "outputId": "fe2b26b9-94db-476b-c143-127857e97217"
      },
      "execution_count": 10,
      "outputs": [
        {
          "output_type": "execute_result",
          "data": {
            "text/plain": [
              "tensor([[0.1404, 0.8149, 0.4069, 0.5622, 0.6966],\n",
              "        [0.6315, 0.6390, 0.3684, 0.3750, 0.6505],\n",
              "        [0.0483, 0.9433, 0.1229, 0.2006, 0.6041]], dtype=torch.float64)"
            ]
          },
          "metadata": {},
          "execution_count": 10
        }
      ]
    },
    {
      "cell_type": "code",
      "source": [],
      "metadata": {
        "id": "FddGsWWukZvy"
      },
      "execution_count": null,
      "outputs": []
    }
  ]
}